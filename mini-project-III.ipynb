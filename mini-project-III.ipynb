{
  "nbformat": 4,
  "nbformat_minor": 0,
  "metadata": {
    "kernelspec": {
      "display_name": "Python 3",
      "language": "python",
      "name": "python3"
    },
    "language_info": {
      "codemirror_mode": {
        "name": "ipython",
        "version": 3
      },
      "file_extension": ".py",
      "mimetype": "text/x-python",
      "name": "python",
      "nbconvert_exporter": "python",
      "pygments_lexer": "ipython3",
      "version": "3.7.6"
    },
    "colab": {
      "name": "mini-project-III.ipynb",
      "provenance": []
    }
  },
  "cells": [
    {
      "cell_type": "markdown",
      "metadata": {
        "id": "P5cep-CWkHp_"
      },
      "source": [
        "## Mini Project III\n",
        "mini-project-III\n",
        "Repo with the instructions for the Mini Project III.\n",
        "Topics\n",
        "This mini project is dedicated to following topics:\n",
        "Data Wrangling\n",
        "Data Visualization\n",
        "Data Preparation and Feature Engineering\n",
        "Dimensionality Reduction\n",
        "Unsupervised Learning\n",
        "Data\n",
        "We will be using old data about different financial transactions. You can download the data from here. The data contains following tables:\n",
        "\n",
        "twm_customer - information about customers\n",
        "\n",
        "twm_accounts - information about accounts\n",
        "\n",
        "twm_checking_accounts - information about checking accounts (subset of twm_accounts)\n",
        "\n",
        "twm_credit_accounts - information about checking accounts (subset of twm_accounts)\n",
        "\n",
        "twm_savings_accounts - information about checking accounts (subset of twm_accounts)\n",
        "\n",
        "twm_transactions - information about financial transactions\n",
        "\n",
        "twm_savings_tran - information about savings transactions (subset of twm_transactions)\n",
        "\n",
        "twm_checking_tran - information about savings transactions (subset of twm_transactions)\n",
        "\n",
        "twm_credit_tran - information about credit checking (subset of twm_transactions)\n",
        "\n",
        "Output\n",
        "In this miniproject, we will:\n",
        "create two separate customer segmentations (using clustering) to split them into 3-5 clusters:\n",
        "based on demographics (only on the information from twm_customer)\n",
        "based on their banking behavior. We can take following things into consideration as banking behavior:\n",
        "do they have savings account? How much do they save?\n",
        "do they have credit account? How much do they live in debt?\n",
        "are they making lot of small transactions or few huge ones?\n",
        "visualize the created clusters using radar charts and compare them agains each other\n",
        "visualize segmentations using scatter plot. We will have to use PCA to be able to plot our observations in 2D.\n",
        "(stretch) visualize in 2D how our clusters are evolving in each iteration of KMeans (for at least 20 iterations).\n",
        "we will need to create own implementation of kmeans so we can see what is happening with the clusters during the iterations.\n"
      ]
    },
    {
      "cell_type": "markdown",
      "metadata": {
        "id": "GvQLzGMB5DaZ"
      },
      "source": [
        "Data Wrangling\n",
        "Data Visualization\n",
        "Data Preparation and Feature Engineering\n",
        "Dimensionality Reduction\n",
        "Unsupervised Learning"
      ]
    },
    {
      "cell_type": "code",
      "metadata": {
        "id": "N7O_TbiD5DKJ"
      },
      "source": [
        "\n",
        "import pandas as pd\n",
        "import os\n",
        "import requests as re\n",
        "import json\n",
        "import pprint\n",
        "import numpy as np\n",
        "import unicodedata"
      ],
      "execution_count": 2,
      "outputs": []
    },
    {
      "cell_type": "code",
      "metadata": {
        "id": "j5NvDTcQkHqA"
      },
      "source": [
        "# Load dataframe\n",
        "twm_accounts = pd.read_csv('https://raw.githubusercontent.com/digitalminimal/mini-project-III/master/data/twm_accounts.csv')\n",
        "twm_customer = pd.read_csv('https://raw.githubusercontent.com/digitalminimal/mini-project-III/master/data/twm_customer.csv', sep=\";\")\n",
        "twm_checking_accounts = pd.read_csv('https://raw.githubusercontent.com/digitalminimal/mini-project-III/master/data/twm_checking_acct.csv', sep=\";\")\n",
        "twm_credit_accounts = pd.read_csv('https://raw.githubusercontent.com/digitalminimal/mini-project-III/master/data/twm_credit_acct.csv', sep=\";\")\n",
        "twm_savings_accounts = pd.read_csv('https://raw.githubusercontent.com/digitalminimal/mini-project-III/master/data/twm_savings_acct.csv', sep=\";\")\n",
        "twm_transactions = pd.read_csv('https://raw.githubusercontent.com/digitalminimal/mini-project-III/master/data/twm_transactions.csv', sep=\";\")\n",
        "twm_savings_tran = pd.read_csv('https://raw.githubusercontent.com/digitalminimal/mini-project-III/master/data/twm_savings_tran.csv', sep=\";\")\n",
        "twm_checking_tran = pd.read_csv('https://raw.githubusercontent.com/digitalminimal/mini-project-III/master/data/twm_checking_tran.csv', sep=\";\")\n",
        "twm_credit_tran = pd.read_csv('https://raw.githubusercontent.com/digitalminimal/mini-project-III/master/data/twm_credit_tran.csv')"
      ],
      "execution_count": 13,
      "outputs": []
    },
    {
      "cell_type": "markdown",
      "metadata": {
        "id": "2Q1lu4SS5s8Y"
      },
      "source": [
        "Database\n"
      ]
    },
    {
      "cell_type": "code",
      "metadata": {
        "id": "chplKgq65CiO"
      },
      "source": [
        "#DataBase \n",
        "import sqlite3\n",
        "from sqlite3 import Error\n",
        "\n",
        "def create_connection(path):\n",
        "    connection = None\n",
        "    try:\n",
        "        connection = sqlite3.connect(path)\n",
        "        print(\"Connection to SQLite DB successful\")\n",
        "    except Error as e:\n",
        "        print(f\"The error '{e}' occurred\")\n",
        "\n",
        "    return connection"
      ],
      "execution_count": null,
      "outputs": []
    },
    {
      "cell_type": "code",
      "metadata": {
        "id": "DMMxp5P655ma"
      },
      "source": [
        "u_connection = create_connection(\"unified.sqlite\")"
      ],
      "execution_count": null,
      "outputs": []
    },
    {
      "cell_type": "code",
      "metadata": {
        "id": "9fjb6-Zq5_rM"
      },
      "source": [
        "# drop the table before creating it to start fresh\n",
        "delete_table_query = \"\"\"DROP TABLE unified\"\"\"\n",
        "u_connection.execute(delete_table_query)"
      ],
      "execution_count": null,
      "outputs": []
    },
    {
      "cell_type": "code",
      "metadata": {
        "id": "pieKoJl77A7Q"
      },
      "source": [
        "create_unified_table = \"\"\"\n",
        "CREATE TABLE IF NOT EXISTS unified (\n",
        "  id INTEGER PRIMARY KEY AUTOINCREMENT,\n",
        "  api TEXT NOT NULL,\n",
        "  venue_name TEXT NOT NULL,\n",
        "  category_name TEXT NOT NULL,\n",
        "  address TEXT NOT NULL,\n",
        "  city TEXT NOT NULL\n",
        ");\n",
        "\"\"\""
      ],
      "execution_count": null,
      "outputs": []
    },
    {
      "cell_type": "code",
      "metadata": {
        "id": "s6ht-K4O7DcW"
      },
      "source": [
        "def execute_query(connection, query):\n",
        "    cursor = connection.cursor()\n",
        "    try:\n",
        "        cursor.execute(query)\n",
        "        connection.commit()\n",
        "        print(\"Query executed successfully\")\n",
        "    except Error as e:\n",
        "        print(f\"The error '{e}' occurred\")"
      ],
      "execution_count": null,
      "outputs": []
    },
    {
      "cell_type": "code",
      "metadata": {
        "id": "KqmZLDg17FUJ"
      },
      "source": [
        "execute_query(u_connection, create_unified_table)  "
      ],
      "execution_count": null,
      "outputs": []
    },
    {
      "cell_type": "markdown",
      "metadata": {
        "id": "sVj_orLGFLG1"
      },
      "source": [
        "based on demographics (only on the information from twm_customer)"
      ]
    },
    {
      "cell_type": "code",
      "metadata": {
        "id": "e813JBHgFJk_"
      },
      "source": [
        ""
      ],
      "execution_count": null,
      "outputs": []
    },
    {
      "cell_type": "markdown",
      "metadata": {
        "id": "X3Wk5h0XFMLB"
      },
      "source": [
        "based on their banking behavior. We can take following things into consideration as banking behavior:\n",
        "do they have savings account? How much do they save?\n",
        "do they have credit account? How much do they live in debt?\n",
        "are they making lot of small transactions or few huge ones?"
      ]
    },
    {
      "cell_type": "markdown",
      "metadata": {
        "id": "oHcQAPmoIIUZ"
      },
      "source": [
        "Link customer to \n",
        "customer accounts to \n",
        "savings account\n",
        "credit account? How much do they live in debt?\n",
        "are they making lot of small transactions or few huge ones?"
      ]
    },
    {
      "cell_type": "code",
      "metadata": {
        "id": "nM9bIjHPFNtX"
      },
      "source": [
        ""
      ],
      "execution_count": null,
      "outputs": []
    }
  ]
}